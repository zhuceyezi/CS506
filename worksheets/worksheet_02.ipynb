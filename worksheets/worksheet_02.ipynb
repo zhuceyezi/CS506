{
 "cells": [
  {
   "attachments": {},
   "cell_type": "markdown",
   "metadata": {},
   "source": [
    "# Worksheet 02\n",
    "\n",
    "Name:  Liang Han\n",
    "\n",
    "UID: U86104920\n",
    "\n",
    "### Topics\n",
    "\n",
    "- Effective Programming\n",
    "\n",
    "### Effective Programming\n",
    "\n",
    "a) What is a drawback of the top down approach?"
   ]
  },
  {
   "attachments": {},
   "cell_type": "markdown",
   "metadata": {},
   "source": [
    "We don't have a working code until we are at the end of the development cycle."
   ]
  },
  {
   "attachments": {},
   "cell_type": "markdown",
   "metadata": {},
   "source": [
    "b) What is a drawback of the bottom up approach?"
   ]
  },
  {
   "attachments": {},
   "cell_type": "markdown",
   "metadata": {},
   "source": [
    "it is hard to know upfront everything we need. Many times we implement functions that we don't need at all."
   ]
  },
  {
   "attachments": {},
   "cell_type": "markdown",
   "metadata": {},
   "source": [
    "c) What are 3 things you can do to have a better debugging experience?"
   ]
  },
  {
   "attachments": {},
   "cell_type": "markdown",
   "metadata": {},
   "source": [
    "\n",
    "\n",
    "**1. Don't panic**\n",
    "\n",
    "2. Read the error\n",
    "\n",
    "3. Sanity check: Is everything set up properly? Are things that are supposed to be working actually working?\n"
   ]
  },
  {
   "attachments": {},
   "cell_type": "markdown",
   "metadata": {},
   "source": [
    "d) Follow along with the live coding. You can write your code here:"
   ]
  },
  {
   "cell_type": "code",
   "execution_count": 3,
   "metadata": {},
   "outputs": [
    {
     "name": "stdout",
     "output_type": "stream",
     "text": [
      "Q _ _ _ _ _ _ _ \n",
      "_ _ _ _ _ _ _ _ \n",
      "_ _ _ _ _ _ _ _ \n",
      "_ _ _ _ _ _ _ _ \n",
      "_ _ _ _ _ _ _ _ \n",
      "_ _ _ _ _ _ _ _ \n",
      "_ _ _ _ _ _ _ _ \n",
      "_ _ _ _ _ _ _ _ \n",
      "\n",
      "['Q', '_', '_', '_', '_', '_', '_', '_']\n",
      "found a solution\n"
     ]
    }
   ],
   "source": [
    "# Create a board first\n",
    "class Board:\n",
    "    def __init__(self):\n",
    "        self.board = [[\"_\" for _ in range(8)] for _ in range(8)]\n",
    "        # we can also do\n",
    "        # self.blank =\n",
    "        # self.queen = \n",
    "        \n",
    "    def __repr__(self) -> str:\n",
    "        res = \"\"\n",
    "        for row in self.board:\n",
    "            for col in row:\n",
    "                res += col\n",
    "                res += \" \"\n",
    "            res += \"\\n\"\n",
    "        return res\n",
    "    \n",
    "    def is_legal_row(self, row) -> bool:\n",
    "        if self.board[row][:].__contains__(\"Q\"):\n",
    "            return False\n",
    "        return True\n",
    "    \n",
    "    def is_legal_col(self, col) -> bool:\n",
    "        if self.board[:][col].__contains__(\"Q\"):\n",
    "            return False\n",
    "        return True\n",
    "    \n",
    "    def is_legal(self, row, col) -> bool:\n",
    "        return self.is_legal_row(self, row) and self.is_legal_col(self, col)\n",
    "        \n",
    "    def set_queen_at(self, row, col):\n",
    "        self.board[row][col] = \"Q\"\n",
    "        \n",
    "    def unset_queen_on(self, row):\n",
    "        self.board[row] = ['_' for _ in range(8)]\n",
    "    \n",
    "    def get_queen_on(self, row):\n",
    "        idx = self.board[row].index(\"Q\")\n",
    "        return idx\n",
    "        \n",
    "        \n",
    "    def search(self):\n",
    "        row = 0\n",
    "        col = 0\n",
    "        \n",
    "        if self.is_legal(row, col):\n",
    "            self.set_queen_at(row, col)\n",
    "            row += 1\n",
    "            col = 0\n",
    "        else:\n",
    "            col += 1\n",
    "            if col >= 8:\n",
    "                row -= 1\n",
    "                # need to get the queen position, move the queen 1 unit to the right\n",
    "                col = self.get_queen_on_row(row)\n",
    "                self.unset_queen_on_row(row)\n",
    "                col += 1\n",
    "                \n",
    "        \n",
    "if __name__ == \"__main__\":        \n",
    "    my_board = Board()\n",
    "    my_board.search()\n",
    "    print(my_board)\n",
    "    print(\"found a solution\")\n"
   ]
  },
  {
   "cell_type": "code",
   "execution_count": null,
   "metadata": {},
   "outputs": [],
   "source": [
    "# Get and Set Queens on the board\n",
    "\n",
    "# Is a location valid\n",
    "\n",
    "# Search for one solution first\n",
    "\n",
    "# Find all solutions\n",
    "\n",
    "# Refine"
   ]
  }
 ],
 "metadata": {
  "kernelspec": {
   "display_name": "Python 3",
   "language": "python",
   "name": "python3"
  },
  "language_info": {
   "codemirror_mode": {
    "name": "ipython",
    "version": 3
   },
   "file_extension": ".py",
   "mimetype": "text/x-python",
   "name": "python",
   "nbconvert_exporter": "python",
   "pygments_lexer": "ipython3",
   "version": "3.10.9"
  },
  "orig_nbformat": 4,
  "vscode": {
   "interpreter": {
    "hash": "76ca05dc3ea24b2e3b98cdb7774adfbb40773424bf5109b477fd793f623715af"
   }
  }
 },
 "nbformat": 4,
 "nbformat_minor": 2
}
